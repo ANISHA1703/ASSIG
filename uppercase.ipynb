{
  "nbformat": 4,
  "nbformat_minor": 0,
  "metadata": {
    "colab": {
      "provenance": [],
      "authorship_tag": "ABX9TyOKu3xHIjXI/SY4F2NRE7pV",
      "include_colab_link": true
    },
    "kernelspec": {
      "name": "python3",
      "display_name": "Python 3"
    },
    "language_info": {
      "name": "python"
    }
  },
  "cells": [
    {
      "cell_type": "markdown",
      "metadata": {
        "id": "view-in-github",
        "colab_type": "text"
      },
      "source": [
        "<a href=\"https://colab.research.google.com/github/ANISHA1703/ASSIG/blob/main/uppercase.ipynb\" target=\"_parent\"><img src=\"https://colab.research.google.com/assets/colab-badge.svg\" alt=\"Open In Colab\"/></a>"
      ]
    },
    {
      "cell_type": "code",
      "execution_count": null,
      "metadata": {
        "colab": {
          "base_uri": "https://localhost:8080/"
        },
        "id": "ScF4hez-NT_U",
        "outputId": "58271291-05d4-4170-81af-d5349134fdf6"
      },
      "outputs": [
        {
          "output_type": "stream",
          "name": "stdout",
          "text": [
            "no.of Upper case characters: 3\n",
            "no.of Lower case characters: 12\n",
            " \n"
          ]
        }
      ],
      "source": [
        "def count_upper_lower(x):\n",
        "    count_upper=0\n",
        "    count_lower=0\n",
        "    for i in range(len(x)):\n",
        "        if x[i].isupper():\n",
        "            count_upper+=1\n",
        "        elif x[i].islower():\n",
        "              count_lower+=1\n",
        "    print('no.of Upper case characters:',count_upper)\n",
        "    print('no.of Lower case characters:',count_lower)\n",
        "    return \" \"\n",
        "x= 'The quick Brow Fox'\n",
        "print(count_upper_lower(x))"
      ]
    }
  ]
}