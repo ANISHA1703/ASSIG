{
  "nbformat": 4,
  "nbformat_minor": 0,
  "metadata": {
    "colab": {
      "provenance": [],
      "authorship_tag": "ABX9TyNOzrlx8HYA6FoYhBWMn8m+",
      "include_colab_link": true
    },
    "kernelspec": {
      "name": "python3",
      "display_name": "Python 3"
    },
    "language_info": {
      "name": "python"
    }
  },
  "cells": [
    {
      "cell_type": "markdown",
      "metadata": {
        "id": "view-in-github",
        "colab_type": "text"
      },
      "source": [
        "<a href=\"https://colab.research.google.com/github/ANISHA1703/ASSIG/blob/main/reverse9.ipynb\" target=\"_parent\"><img src=\"https://colab.research.google.com/assets/colab-badge.svg\" alt=\"Open In Colab\"/></a>"
      ]
    },
    {
      "cell_type": "code",
      "execution_count": null,
      "metadata": {
        "colab": {
          "base_uri": "https://localhost:8080/"
        },
        "id": "EVxZbypiF-I0",
        "outputId": "66232347-9f89-4347-feac-279ea55d9d68"
      },
      "outputs": [
        {
          "output_type": "stream",
          "name": "stdout",
          "text": [
            "The original string is:1234abcd\n",
            "The reversed string(using extended slice syntax)is:dcba4321\n"
          ]
        }
      ],
      "source": [
        "def reverse(string):\n",
        "  string = string[::-1]\n",
        "  return string\n",
        "s= \"1234abcd\"\n",
        "print('The original string is:',end=\"\")\n",
        "print(s)\n",
        "print(\"The reversed string(using extended slice syntax)is:\",end= \"\")\n",
        "print(reverse(s))"
      ]
    }
  ]
}