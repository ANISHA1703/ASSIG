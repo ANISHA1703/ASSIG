{
  "nbformat": 4,
  "nbformat_minor": 0,
  "metadata": {
    "colab": {
      "provenance": [],
      "authorship_tag": "ABX9TyP39Z+QSiixrDzFLopSYemN",
      "include_colab_link": true
    },
    "kernelspec": {
      "name": "python3",
      "display_name": "Python 3"
    },
    "language_info": {
      "name": "python"
    }
  },
  "cells": [
    {
      "cell_type": "markdown",
      "metadata": {
        "id": "view-in-github",
        "colab_type": "text"
      },
      "source": [
        "<a href=\"https://colab.research.google.com/github/ANISHA1703/ASSIG/blob/main/tupq_py.ipynb\" target=\"_parent\"><img src=\"https://colab.research.google.com/assets/colab-badge.svg\" alt=\"Open In Colab\"/></a>"
      ]
    },
    {
      "cell_type": "code",
      "execution_count": null,
      "metadata": {
        "colab": {
          "base_uri": "https://localhost:8080/"
        },
        "id": "rUO--PQJEozd",
        "outputId": "9d8b7c0d-bdf1-456b-b130-8f213d45a16e"
      },
      "outputs": [
        {
          "output_type": "stream",
          "name": "stdout",
          "text": [
            "5\n",
            "sorted\n",
            "[(2, 1), (1, 2), (2, 3), (4, 4), (2, 5)]\n"
          ]
        }
      ],
      "source": [
        "def last(n):\n",
        "  return n[-1]\n",
        "def sort(a):\n",
        "  return sorted(a,key=last)\n",
        "a= [(2, 5), (1, 2), (4, 4), (2, 3), (2, 1)]\n",
        "print(len(a))\n",
        "print('sorted')\n",
        "print(sort(a))\n",
        "          "
      ]
    },
    {
      "cell_type": "code",
      "execution_count": null,
      "metadata": {
        "id": "mEz0pgoyGAii"
      },
      "outputs": [],
      "source": []
    }
  ]
}