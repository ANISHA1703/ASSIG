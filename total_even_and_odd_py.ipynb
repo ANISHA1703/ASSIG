{
  "nbformat": 4,
  "nbformat_minor": 0,
  "metadata": {
    "colab": {
      "provenance": [],
      "authorship_tag": "ABX9TyM7J39p/zVV5loh/uyaFeJy",
      "include_colab_link": true
    },
    "kernelspec": {
      "name": "python3",
      "display_name": "Python 3"
    },
    "language_info": {
      "name": "python"
    }
  },
  "cells": [
    {
      "cell_type": "markdown",
      "metadata": {
        "id": "view-in-github",
        "colab_type": "text"
      },
      "source": [
        "<a href=\"https://colab.research.google.com/github/ANISHA1703/ASSIG/blob/main/total_even_and_odd_py.ipynb\" target=\"_parent\"><img src=\"https://colab.research.google.com/assets/colab-badge.svg\" alt=\"Open In Colab\"/></a>"
      ]
    },
    {
      "cell_type": "code",
      "execution_count": null,
      "metadata": {
        "colab": {
          "base_uri": "https://localhost:8080/"
        },
        "id": "wu9mehMp_dGJ",
        "outputId": "6cbae94d-e336-4555-9cfd-29eb65118d4f"
      },
      "outputs": [
        {
          "output_type": "stream",
          "name": "stdout",
          "text": [
            "total odd number= 5\n",
            "total even numbers= 4\n"
          ]
        }
      ],
      "source": [
        "list1=[1,2,3,4,5,6,7,8,9]\n",
        "total_odd=0\n",
        "total_even=0\n",
        "for number in list1:\n",
        "    if(number % 2==0):\n",
        "         total_even=total_even +1\n",
        "    else:\n",
        "        total_odd=total_odd +1\n",
        "print('total odd number=',total_odd)\n",
        "print('total even numbers=',total_even)"
      ]
    }
  ]
}